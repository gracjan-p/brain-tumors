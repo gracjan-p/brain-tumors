{
 "cells": [
  {
   "cell_type": "code",
   "id": "initial_id",
   "metadata": {
    "collapsed": true,
    "ExecuteTime": {
     "end_time": "2024-12-10T16:50:19.925895Z",
     "start_time": "2024-12-10T16:50:19.921314Z"
    }
   },
   "source": [
    "from scipy.stats.mstats import trimmed_mean\n",
    "import numpy as np\n",
    "import tensorflow as tf"
   ],
   "outputs": [],
   "execution_count": 4
  },
  {
   "metadata": {
    "ExecuteTime": {
     "end_time": "2024-12-10T16:52:36.252019Z",
     "start_time": "2024-12-10T16:52:36.247016Z"
    }
   },
   "cell_type": "code",
   "source": [
    "a = np.array([0.11, 0.55, 1, .17, 0.22, 1, .1, 1])\n",
    "\n",
    "b = np.round(a, 1)\n",
    "\n",
    "print(a, b, sep='\\n')"
   ],
   "id": "a398f5f368b3689e",
   "outputs": [
    {
     "name": "stdout",
     "output_type": "stream",
     "text": [
      "[0.11 0.55 1.   0.17 0.22 1.   0.1  1.  ]\n",
      "[0.1 0.6 1.  0.2 0.2 1.  0.1 1. ]\n"
     ]
    }
   ],
   "execution_count": 25
  }
 ],
 "metadata": {
  "kernelspec": {
   "display_name": "Python 3",
   "language": "python",
   "name": "python3"
  },
  "language_info": {
   "codemirror_mode": {
    "name": "ipython",
    "version": 2
   },
   "file_extension": ".py",
   "mimetype": "text/x-python",
   "name": "python",
   "nbconvert_exporter": "python",
   "pygments_lexer": "ipython2",
   "version": "2.7.6"
  }
 },
 "nbformat": 4,
 "nbformat_minor": 5
}
