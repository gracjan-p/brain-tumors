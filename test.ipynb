{
 "cells": [
  {
   "metadata": {
    "ExecuteTime": {
     "end_time": "2024-12-23T22:37:19.892465Z",
     "start_time": "2024-12-23T22:37:19.854984Z"
    }
   },
   "cell_type": "code",
   "source": [
    "data = tf.keras.utils.image_dataset_from_directory(data_path_after, batch_size=8, color_mode='grayscale', image_size=(256, 256))\n",
    "data_iterator = data.as_numpy_iterator()\n",
    "batch = data_iterator.next()"
   ],
   "id": "c5385d79c9aa6912",
   "outputs": [],
   "execution_count": 163
  },
  {
   "cell_type": "code",
   "id": "initial_id",
   "metadata": {
    "collapsed": true,
    "ExecuteTime": {
     "end_time": "2024-12-23T22:41:59.148091Z",
     "start_time": "2024-12-23T22:41:56.735176Z"
    }
   },
   "source": [
    "fig, axes = plt.subplots(nrows=1, ncols=8, figsize=(24, 6))\n",
    "for i, img in enumerate(batch[0][:8]):\n",
    "    class_name = labels[batch[1][i]]\n",
    "    axes[i].imshow(img, cmap='gray')\n",
    "    axes[i].set_title(class_name)\n",
    "    axes[i].set_axis_off()\n",
    "\n",
    "plt.tight_layout()\n",
    "plt.show()"
   ],
   "outputs": [
    {
     "name": "stderr",
     "output_type": "stream",
     "text": [
      "Copying files: 3064 files [00:02, 1281.46 files/s]\n"
     ]
    }
   ],
   "execution_count": 164
  },
  {
   "metadata": {
    "ExecuteTime": {
     "end_time": "2024-12-24T08:58:39.406965Z",
     "start_time": "2024-12-24T08:58:39.369374Z"
    }
   },
   "cell_type": "code",
   "source": "import splitfolders",
   "id": "81b721617e0ac6e5",
   "outputs": [],
   "execution_count": 1
  },
  {
   "metadata": {
    "ExecuteTime": {
     "end_time": "2024-12-24T09:09:35.647923Z",
     "start_time": "2024-12-24T09:09:33.143536Z"
    }
   },
   "cell_type": "code",
   "source": [
    "input_folder = \"D:\\\\data-science\\\\brain-tumor-data\\\\images\"\n",
    "output_folder = \"D:\\\\data-science\\\\brain-tumor-data\\\\images_split\"\n",
    "\n",
    "splitfolders.ratio(input=input_folder, output=output_folder, ratio=(.7, .2, .1))"
   ],
   "id": "fe3fddf504d35e2",
   "outputs": [
    {
     "name": "stderr",
     "output_type": "stream",
     "text": [
      "Copying files: 3064 files [00:02, 1227.37 files/s]\n"
     ]
    }
   ],
   "execution_count": 4
  }
 ],
 "metadata": {
  "kernelspec": {
   "display_name": "Python 3",
   "language": "python",
   "name": "python3"
  },
  "language_info": {
   "codemirror_mode": {
    "name": "ipython",
    "version": 2
   },
   "file_extension": ".py",
   "mimetype": "text/x-python",
   "name": "python",
   "nbconvert_exporter": "python",
   "pygments_lexer": "ipython2",
   "version": "2.7.6"
  }
 },
 "nbformat": 4,
 "nbformat_minor": 5
}
