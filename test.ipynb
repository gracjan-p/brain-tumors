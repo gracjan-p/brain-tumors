{
 "cells": [
  {
   "cell_type": "code",
   "id": "initial_id",
   "metadata": {
    "collapsed": true,
    "ExecuteTime": {
     "end_time": "2024-12-16T20:51:57.573570Z",
     "start_time": "2024-12-16T20:51:50.244279Z"
    }
   },
   "source": [
    "from scipy.stats.mstats import trimmed_mean\n",
    "import numpy as np\n",
    "import tensorflow as tf\n",
    "from scipy.stats import poisson"
   ],
   "outputs": [],
   "execution_count": 2
  },
  {
   "metadata": {
    "ExecuteTime": {
     "end_time": "2024-12-16T20:53:21.929550Z",
     "start_time": "2024-12-16T20:53:21.922779Z"
    }
   },
   "cell_type": "code",
   "source": [
    "for k in range(1, 11):\n",
    "    l = 4\n",
    "    \n",
    "    prop = poisson.pmf(k=k, mu=l)\n",
    "    print(k)\n",
    "    print(prop)"
   ],
   "id": "a398f5f368b3689e",
   "outputs": [
    {
     "name": "stdout",
     "output_type": "stream",
     "text": [
      "1\n",
      "0.07326255555493673\n",
      "2\n",
      "0.14652511110987343\n",
      "3\n",
      "0.19536681481316454\n",
      "4\n",
      "0.19536681481316454\n",
      "5\n",
      "0.1562934518505317\n",
      "6\n",
      "0.10419563456702102\n",
      "7\n",
      "0.0595403626097263\n",
      "8\n",
      "0.029770181304863145\n",
      "9\n",
      "0.013231191691050305\n",
      "10\n",
      "0.005292476676420117\n"
     ]
    }
   ],
   "execution_count": 7
  }
 ],
 "metadata": {
  "kernelspec": {
   "display_name": "Python 3",
   "language": "python",
   "name": "python3"
  },
  "language_info": {
   "codemirror_mode": {
    "name": "ipython",
    "version": 2
   },
   "file_extension": ".py",
   "mimetype": "text/x-python",
   "name": "python",
   "nbconvert_exporter": "python",
   "pygments_lexer": "ipython2",
   "version": "2.7.6"
  }
 },
 "nbformat": 4,
 "nbformat_minor": 5
}
