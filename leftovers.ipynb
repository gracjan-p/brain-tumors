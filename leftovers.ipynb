{
 "cells": [
  {
   "cell_type": "code",
   "execution_count": null,
   "id": "initial_id",
   "metadata": {
    "collapsed": true
   },
   "outputs": [],
   "source": [
    "def preprocess_images(img):\n",
    "    img = tf.cast(img, tf.float32) / tf.reduce_max(img)\n",
    "\n",
    "    # normalizing image, avoiding zero division\n",
    "    img /= tf.reduce_max(img)\n",
    "    img *= 255\n",
    "    img = tf.where(img <= 30, tf.zeros_like(img), img)\n",
    "\n",
    "\n",
    "    # increase exposure, contrast streching\n",
    "    tf.image.adjust_brightness(img, delta=2)\n",
    "    tf.image.adjust_contrast(img, contrast_factor=2)\n",
    "    img = (img - tf.reduce_min(img)) / (tf.reduce_max(img) - tf.reduce_min(img))\n",
    "    # img *= 255\n",
    "\n",
    "    return img\n",
    "\n",
    "def preprocess_images_wrapper(images):\n",
    "    return tf.map_fn(fn=preprocess_images, elems=images)"
   ]
  },
  {
   "metadata": {},
   "cell_type": "code",
   "outputs": [],
   "execution_count": null,
   "source": [
    "from matplotlib import pyplot as plt\n",
    "\n",
    "test_path = 'D:\\\\data-science\\\\brain-tumor-data\\\\test'\n",
    "test_files = os.listdir(test_path)\n",
    "\n",
    "fig, axes = plt.subplots(nrows=4, ncols=4, figsize=(20, 20))\n",
    "\n",
    "for i, file in enumerate(test_files):\n",
    "    img = Image.open(test_path + '\\\\' + file)\n",
    "    y, x = [int(x[0]) for x in file.split('_')[1:]]\n",
    "\n",
    "    axes[y, x].imshow(img, cmap='grey', vmin=0, vmax=255)\n",
    "    axes[y, x].set_axis_off()\n",
    "    axes[y, 0].set_title('Original')\n",
    "    axes[y, 1].set_title('Exposure and contrast')\n",
    "    axes[y, 2].set_title('Background cutoff')\n",
    "    axes[y, 3].set_title('Color quantization')\n",
    "\n",
    "plt.tight_layout()"
   ],
   "id": "91ba12f44d9fab41"
  },
  {
   "metadata": {},
   "cell_type": "code",
   "outputs": [],
   "execution_count": null,
   "source": [
    "for _ in range(4):\n",
    "    for i, mat in enumerate(matrices[100:103]):\n",
    "        with h5py.File(f\"{mat_path}\\\\{mat}\", 'r') as file:\n",
    "            image = file['cjdata']['image']\n",
    "            label = int(file['cjdata']['label'][0])\n",
    "\n",
    "            image = np.array(image) / np.max(image)\n",
    "\n",
    "            if _ == 1:\n",
    "                image = exposure.equalize_hist(image)\n",
    "\n",
    "            if _ == 2:\n",
    "                image = exposure.equalize_hist(image)\n",
    "                image = exposure.rescale_intensity(image)\n",
    "\n",
    "            if _ == 3:\n",
    "                image[image <= 0.05] = 0\n",
    "                image = exposure.equalize_hist(image)\n",
    "                image = exposure.rescale_intensity(image)\n",
    "\n",
    "            image *= 255\n",
    "            image = np.array(image).astype(np.uint8)\n",
    "            img_values = Image.fromarray(image)\n",
    "\n",
    "            file_name = label_names[label] + f\"_{i}_{_}.png\"\n",
    "            img_values.save(data_path_after + '\\\\test\\\\' + '\\\\' + file_name)"
   ],
   "id": "bb82fccf1fe27c03"
  }
 ],
 "metadata": {
  "kernelspec": {
   "display_name": "Python 3",
   "language": "python",
   "name": "python3"
  },
  "language_info": {
   "codemirror_mode": {
    "name": "ipython",
    "version": 2
   },
   "file_extension": ".py",
   "mimetype": "text/x-python",
   "name": "python",
   "nbconvert_exporter": "python",
   "pygments_lexer": "ipython2",
   "version": "2.7.6"
  }
 },
 "nbformat": 4,
 "nbformat_minor": 5
}
